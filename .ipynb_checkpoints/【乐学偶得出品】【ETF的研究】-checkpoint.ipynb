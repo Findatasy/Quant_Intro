{
 "cells": [
  {
   "cell_type": "markdown",
   "metadata": {
    "collapsed": true,
    "pycharm": {
     "name": "#%% md\n"
    }
   },
   "source": [
    "乐学偶得版权所有  公众号1：乐学Fintech 2:乐学偶得\n",
    "主讲人：William 网站：lexueoude.com  <br>\n",
    "LX_LAB教研团队提供技术支持 正版视频： 网易云课堂：乐学偶得\n"
   ]
  },
  {
   "cell_type": "code",
   "execution_count": 4,
   "metadata": {
    "pycharm": {
     "name": "#%%\n"
    }
   },
   "outputs": [],
   "source": [
    "import pandas as pd\n",
    "import numpy as np\n",
    "import tushare as ts\n",
    "\n",
    "ts.set_token('e72c3c4a969e6d0daf858fd37b04c73f0e94a35b7915c2ee3513aab9')\n",
    "pro = ts.pro_api()"
   ]
  },
  {
   "cell_type": "code",
   "execution_count": 5,
   "metadata": {
    "pycharm": {
     "name": "#%%\n"
    }
   },
   "outputs": [],
   "source": [
    "df = pro.fund_daily(ts_code = '510300.SH',start_date = '20160101' ,end_date = '20201231')"
   ]
  },
  {
   "cell_type": "code",
   "execution_count": 6,
   "metadata": {
    "pycharm": {
     "name": "#%%\n"
    }
   },
   "outputs": [
    {
     "data": {
      "text/html": [
       "<div>\n",
       "<style scoped>\n",
       "    .dataframe tbody tr th:only-of-type {\n",
       "        vertical-align: middle;\n",
       "    }\n",
       "\n",
       "    .dataframe tbody tr th {\n",
       "        vertical-align: top;\n",
       "    }\n",
       "\n",
       "    .dataframe thead th {\n",
       "        text-align: right;\n",
       "    }\n",
       "</style>\n",
       "<table border=\"1\" class=\"dataframe\">\n",
       "  <thead>\n",
       "    <tr style=\"text-align: right;\">\n",
       "      <th></th>\n",
       "      <th>ts_code</th>\n",
       "      <th>trade_date</th>\n",
       "      <th>pre_close</th>\n",
       "      <th>open</th>\n",
       "      <th>high</th>\n",
       "      <th>low</th>\n",
       "      <th>close</th>\n",
       "      <th>change</th>\n",
       "      <th>pct_chg</th>\n",
       "      <th>vol</th>\n",
       "      <th>amount</th>\n",
       "    </tr>\n",
       "  </thead>\n",
       "  <tbody>\n",
       "    <tr>\n",
       "      <td>0</td>\n",
       "      <td>510300.SH</td>\n",
       "      <td>20201231</td>\n",
       "      <td>5.178</td>\n",
       "      <td>5.188</td>\n",
       "      <td>5.293</td>\n",
       "      <td>5.186</td>\n",
       "      <td>5.287</td>\n",
       "      <td>0.109</td>\n",
       "      <td>2.1051</td>\n",
       "      <td>8617991.57</td>\n",
       "      <td>4531294.876</td>\n",
       "    </tr>\n",
       "    <tr>\n",
       "      <td>1</td>\n",
       "      <td>510300.SH</td>\n",
       "      <td>20201230</td>\n",
       "      <td>5.114</td>\n",
       "      <td>5.110</td>\n",
       "      <td>5.180</td>\n",
       "      <td>5.107</td>\n",
       "      <td>5.178</td>\n",
       "      <td>0.064</td>\n",
       "      <td>1.2515</td>\n",
       "      <td>3406715.18</td>\n",
       "      <td>1756760.313</td>\n",
       "    </tr>\n",
       "    <tr>\n",
       "      <td>2</td>\n",
       "      <td>510300.SH</td>\n",
       "      <td>20201229</td>\n",
       "      <td>5.130</td>\n",
       "      <td>5.138</td>\n",
       "      <td>5.152</td>\n",
       "      <td>5.106</td>\n",
       "      <td>5.114</td>\n",
       "      <td>-0.016</td>\n",
       "      <td>-0.3119</td>\n",
       "      <td>3427179.00</td>\n",
       "      <td>1756155.512</td>\n",
       "    </tr>\n",
       "    <tr>\n",
       "      <td>3</td>\n",
       "      <td>510300.SH</td>\n",
       "      <td>20201228</td>\n",
       "      <td>5.116</td>\n",
       "      <td>5.112</td>\n",
       "      <td>5.160</td>\n",
       "      <td>5.103</td>\n",
       "      <td>5.130</td>\n",
       "      <td>0.014</td>\n",
       "      <td>0.2737</td>\n",
       "      <td>4471300.14</td>\n",
       "      <td>2291869.850</td>\n",
       "    </tr>\n",
       "    <tr>\n",
       "      <td>4</td>\n",
       "      <td>510300.SH</td>\n",
       "      <td>20201225</td>\n",
       "      <td>5.074</td>\n",
       "      <td>5.054</td>\n",
       "      <td>5.119</td>\n",
       "      <td>5.043</td>\n",
       "      <td>5.116</td>\n",
       "      <td>0.042</td>\n",
       "      <td>0.8277</td>\n",
       "      <td>4033561.29</td>\n",
       "      <td>2053182.584</td>\n",
       "    </tr>\n",
       "  </tbody>\n",
       "</table>\n",
       "</div>"
      ],
      "text/plain": [
       "     ts_code trade_date  pre_close   open   high    low  close  change  \\\n",
       "0  510300.SH   20201231      5.178  5.188  5.293  5.186  5.287   0.109   \n",
       "1  510300.SH   20201230      5.114  5.110  5.180  5.107  5.178   0.064   \n",
       "2  510300.SH   20201229      5.130  5.138  5.152  5.106  5.114  -0.016   \n",
       "3  510300.SH   20201228      5.116  5.112  5.160  5.103  5.130   0.014   \n",
       "4  510300.SH   20201225      5.074  5.054  5.119  5.043  5.116   0.042   \n",
       "\n",
       "   pct_chg         vol       amount  \n",
       "0   2.1051  8617991.57  4531294.876  \n",
       "1   1.2515  3406715.18  1756760.313  \n",
       "2  -0.3119  3427179.00  1756155.512  \n",
       "3   0.2737  4471300.14  2291869.850  \n",
       "4   0.8277  4033561.29  2053182.584  "
      ]
     },
     "execution_count": 6,
     "metadata": {},
     "output_type": "execute_result"
    }
   ],
   "source": [
    "df.head()"
   ]
  },
  {
   "cell_type": "code",
   "execution_count": 7,
   "metadata": {
    "pycharm": {
     "name": "#%%\n"
    }
   },
   "outputs": [],
   "source": [
    "etf_HS300 = df.sort_values(by='trade_date')"
   ]
  },
  {
   "cell_type": "code",
   "execution_count": 8,
   "metadata": {
    "pycharm": {
     "name": "#%%\n"
    }
   },
   "outputs": [
    {
     "data": {
      "text/html": [
       "<div>\n",
       "<style scoped>\n",
       "    .dataframe tbody tr th:only-of-type {\n",
       "        vertical-align: middle;\n",
       "    }\n",
       "\n",
       "    .dataframe tbody tr th {\n",
       "        vertical-align: top;\n",
       "    }\n",
       "\n",
       "    .dataframe thead th {\n",
       "        text-align: right;\n",
       "    }\n",
       "</style>\n",
       "<table border=\"1\" class=\"dataframe\">\n",
       "  <thead>\n",
       "    <tr style=\"text-align: right;\">\n",
       "      <th></th>\n",
       "      <th>ts_code</th>\n",
       "      <th>trade_date</th>\n",
       "      <th>pre_close</th>\n",
       "      <th>open</th>\n",
       "      <th>high</th>\n",
       "      <th>low</th>\n",
       "      <th>close</th>\n",
       "      <th>change</th>\n",
       "      <th>pct_chg</th>\n",
       "      <th>vol</th>\n",
       "      <th>amount</th>\n",
       "    </tr>\n",
       "  </thead>\n",
       "  <tbody>\n",
       "    <tr>\n",
       "      <td>999</td>\n",
       "      <td>510300.SH</td>\n",
       "      <td>20161125</td>\n",
       "      <td>3.547</td>\n",
       "      <td>3.547</td>\n",
       "      <td>3.588</td>\n",
       "      <td>3.521</td>\n",
       "      <td>3.586</td>\n",
       "      <td>0.039</td>\n",
       "      <td>1.0995</td>\n",
       "      <td>1347871.11</td>\n",
       "      <td>480069.676</td>\n",
       "    </tr>\n",
       "    <tr>\n",
       "      <td>998</td>\n",
       "      <td>510300.SH</td>\n",
       "      <td>20161128</td>\n",
       "      <td>3.586</td>\n",
       "      <td>3.594</td>\n",
       "      <td>3.620</td>\n",
       "      <td>3.593</td>\n",
       "      <td>3.602</td>\n",
       "      <td>0.016</td>\n",
       "      <td>0.4462</td>\n",
       "      <td>1483483.31</td>\n",
       "      <td>534775.704</td>\n",
       "    </tr>\n",
       "    <tr>\n",
       "      <td>997</td>\n",
       "      <td>510300.SH</td>\n",
       "      <td>20161129</td>\n",
       "      <td>3.602</td>\n",
       "      <td>3.592</td>\n",
       "      <td>3.648</td>\n",
       "      <td>3.580</td>\n",
       "      <td>3.630</td>\n",
       "      <td>0.028</td>\n",
       "      <td>0.7773</td>\n",
       "      <td>1591360.67</td>\n",
       "      <td>575802.838</td>\n",
       "    </tr>\n",
       "    <tr>\n",
       "      <td>996</td>\n",
       "      <td>510300.SH</td>\n",
       "      <td>20161130</td>\n",
       "      <td>3.630</td>\n",
       "      <td>3.621</td>\n",
       "      <td>3.632</td>\n",
       "      <td>3.591</td>\n",
       "      <td>3.597</td>\n",
       "      <td>-0.033</td>\n",
       "      <td>-0.9091</td>\n",
       "      <td>1660676.58</td>\n",
       "      <td>598824.969</td>\n",
       "    </tr>\n",
       "    <tr>\n",
       "      <td>995</td>\n",
       "      <td>510300.SH</td>\n",
       "      <td>20161201</td>\n",
       "      <td>3.597</td>\n",
       "      <td>3.599</td>\n",
       "      <td>3.643</td>\n",
       "      <td>3.599</td>\n",
       "      <td>3.631</td>\n",
       "      <td>0.034</td>\n",
       "      <td>0.9452</td>\n",
       "      <td>1128864.74</td>\n",
       "      <td>408535.640</td>\n",
       "    </tr>\n",
       "  </tbody>\n",
       "</table>\n",
       "</div>"
      ],
      "text/plain": [
       "       ts_code trade_date  pre_close   open   high    low  close  change  \\\n",
       "999  510300.SH   20161125      3.547  3.547  3.588  3.521  3.586   0.039   \n",
       "998  510300.SH   20161128      3.586  3.594  3.620  3.593  3.602   0.016   \n",
       "997  510300.SH   20161129      3.602  3.592  3.648  3.580  3.630   0.028   \n",
       "996  510300.SH   20161130      3.630  3.621  3.632  3.591  3.597  -0.033   \n",
       "995  510300.SH   20161201      3.597  3.599  3.643  3.599  3.631   0.034   \n",
       "\n",
       "     pct_chg         vol      amount  \n",
       "999   1.0995  1347871.11  480069.676  \n",
       "998   0.4462  1483483.31  534775.704  \n",
       "997   0.7773  1591360.67  575802.838  \n",
       "996  -0.9091  1660676.58  598824.969  \n",
       "995   0.9452  1128864.74  408535.640  "
      ]
     },
     "execution_count": 8,
     "metadata": {},
     "output_type": "execute_result"
    }
   ],
   "source": [
    "etf_HS300.head()\n"
   ]
  },
  {
   "cell_type": "code",
   "execution_count": 9,
   "metadata": {
    "pycharm": {
     "name": "#%%\n"
    }
   },
   "outputs": [],
   "source": [
    "etf_HS300['trade_date'] = pd.to_datetime(etf_HS300['trade_date'],format='%Y%m%d')\n",
    "\n"
   ]
  },
  {
   "cell_type": "code",
   "execution_count": 10,
   "metadata": {
    "pycharm": {
     "name": "#%%\n"
    }
   },
   "outputs": [
    {
     "data": {
      "text/html": [
       "<div>\n",
       "<style scoped>\n",
       "    .dataframe tbody tr th:only-of-type {\n",
       "        vertical-align: middle;\n",
       "    }\n",
       "\n",
       "    .dataframe tbody tr th {\n",
       "        vertical-align: top;\n",
       "    }\n",
       "\n",
       "    .dataframe thead th {\n",
       "        text-align: right;\n",
       "    }\n",
       "</style>\n",
       "<table border=\"1\" class=\"dataframe\">\n",
       "  <thead>\n",
       "    <tr style=\"text-align: right;\">\n",
       "      <th></th>\n",
       "      <th>ts_code</th>\n",
       "      <th>trade_date</th>\n",
       "      <th>pre_close</th>\n",
       "      <th>open</th>\n",
       "      <th>high</th>\n",
       "      <th>low</th>\n",
       "      <th>close</th>\n",
       "      <th>change</th>\n",
       "      <th>pct_chg</th>\n",
       "      <th>vol</th>\n",
       "      <th>amount</th>\n",
       "    </tr>\n",
       "  </thead>\n",
       "  <tbody>\n",
       "    <tr>\n",
       "      <td>999</td>\n",
       "      <td>510300.SH</td>\n",
       "      <td>2016-11-25</td>\n",
       "      <td>3.547</td>\n",
       "      <td>3.547</td>\n",
       "      <td>3.588</td>\n",
       "      <td>3.521</td>\n",
       "      <td>3.586</td>\n",
       "      <td>0.039</td>\n",
       "      <td>1.0995</td>\n",
       "      <td>1347871.11</td>\n",
       "      <td>480069.676</td>\n",
       "    </tr>\n",
       "    <tr>\n",
       "      <td>998</td>\n",
       "      <td>510300.SH</td>\n",
       "      <td>2016-11-28</td>\n",
       "      <td>3.586</td>\n",
       "      <td>3.594</td>\n",
       "      <td>3.620</td>\n",
       "      <td>3.593</td>\n",
       "      <td>3.602</td>\n",
       "      <td>0.016</td>\n",
       "      <td>0.4462</td>\n",
       "      <td>1483483.31</td>\n",
       "      <td>534775.704</td>\n",
       "    </tr>\n",
       "    <tr>\n",
       "      <td>997</td>\n",
       "      <td>510300.SH</td>\n",
       "      <td>2016-11-29</td>\n",
       "      <td>3.602</td>\n",
       "      <td>3.592</td>\n",
       "      <td>3.648</td>\n",
       "      <td>3.580</td>\n",
       "      <td>3.630</td>\n",
       "      <td>0.028</td>\n",
       "      <td>0.7773</td>\n",
       "      <td>1591360.67</td>\n",
       "      <td>575802.838</td>\n",
       "    </tr>\n",
       "    <tr>\n",
       "      <td>996</td>\n",
       "      <td>510300.SH</td>\n",
       "      <td>2016-11-30</td>\n",
       "      <td>3.630</td>\n",
       "      <td>3.621</td>\n",
       "      <td>3.632</td>\n",
       "      <td>3.591</td>\n",
       "      <td>3.597</td>\n",
       "      <td>-0.033</td>\n",
       "      <td>-0.9091</td>\n",
       "      <td>1660676.58</td>\n",
       "      <td>598824.969</td>\n",
       "    </tr>\n",
       "    <tr>\n",
       "      <td>995</td>\n",
       "      <td>510300.SH</td>\n",
       "      <td>2016-12-01</td>\n",
       "      <td>3.597</td>\n",
       "      <td>3.599</td>\n",
       "      <td>3.643</td>\n",
       "      <td>3.599</td>\n",
       "      <td>3.631</td>\n",
       "      <td>0.034</td>\n",
       "      <td>0.9452</td>\n",
       "      <td>1128864.74</td>\n",
       "      <td>408535.640</td>\n",
       "    </tr>\n",
       "  </tbody>\n",
       "</table>\n",
       "</div>"
      ],
      "text/plain": [
       "       ts_code trade_date  pre_close   open   high    low  close  change  \\\n",
       "999  510300.SH 2016-11-25      3.547  3.547  3.588  3.521  3.586   0.039   \n",
       "998  510300.SH 2016-11-28      3.586  3.594  3.620  3.593  3.602   0.016   \n",
       "997  510300.SH 2016-11-29      3.602  3.592  3.648  3.580  3.630   0.028   \n",
       "996  510300.SH 2016-11-30      3.630  3.621  3.632  3.591  3.597  -0.033   \n",
       "995  510300.SH 2016-12-01      3.597  3.599  3.643  3.599  3.631   0.034   \n",
       "\n",
       "     pct_chg         vol      amount  \n",
       "999   1.0995  1347871.11  480069.676  \n",
       "998   0.4462  1483483.31  534775.704  \n",
       "997   0.7773  1591360.67  575802.838  \n",
       "996  -0.9091  1660676.58  598824.969  \n",
       "995   0.9452  1128864.74  408535.640  "
      ]
     },
     "execution_count": 10,
     "metadata": {},
     "output_type": "execute_result"
    }
   ],
   "source": [
    "etf_HS300.head()"
   ]
  },
  {
   "cell_type": "code",
   "execution_count": 11,
   "metadata": {
    "pycharm": {
     "name": "#%%\n"
    }
   },
   "outputs": [
    {
     "data": {
      "text/html": [
       "<div>\n",
       "<style scoped>\n",
       "    .dataframe tbody tr th:only-of-type {\n",
       "        vertical-align: middle;\n",
       "    }\n",
       "\n",
       "    .dataframe tbody tr th {\n",
       "        vertical-align: top;\n",
       "    }\n",
       "\n",
       "    .dataframe thead th {\n",
       "        text-align: right;\n",
       "    }\n",
       "</style>\n",
       "<table border=\"1\" class=\"dataframe\">\n",
       "  <thead>\n",
       "    <tr style=\"text-align: right;\">\n",
       "      <th></th>\n",
       "      <th>ts_code</th>\n",
       "      <th>trade_date</th>\n",
       "      <th>pre_close</th>\n",
       "      <th>open</th>\n",
       "      <th>high</th>\n",
       "      <th>low</th>\n",
       "      <th>close</th>\n",
       "      <th>change</th>\n",
       "      <th>pct_chg</th>\n",
       "      <th>vol</th>\n",
       "      <th>amount</th>\n",
       "    </tr>\n",
       "  </thead>\n",
       "  <tbody>\n",
       "    <tr>\n",
       "      <td>4</td>\n",
       "      <td>510300.SH</td>\n",
       "      <td>2020-12-25</td>\n",
       "      <td>5.074</td>\n",
       "      <td>5.054</td>\n",
       "      <td>5.119</td>\n",
       "      <td>5.043</td>\n",
       "      <td>5.116</td>\n",
       "      <td>0.042</td>\n",
       "      <td>0.8277</td>\n",
       "      <td>4033561.29</td>\n",
       "      <td>2053182.584</td>\n",
       "    </tr>\n",
       "    <tr>\n",
       "      <td>3</td>\n",
       "      <td>510300.SH</td>\n",
       "      <td>2020-12-28</td>\n",
       "      <td>5.116</td>\n",
       "      <td>5.112</td>\n",
       "      <td>5.160</td>\n",
       "      <td>5.103</td>\n",
       "      <td>5.130</td>\n",
       "      <td>0.014</td>\n",
       "      <td>0.2737</td>\n",
       "      <td>4471300.14</td>\n",
       "      <td>2291869.850</td>\n",
       "    </tr>\n",
       "    <tr>\n",
       "      <td>2</td>\n",
       "      <td>510300.SH</td>\n",
       "      <td>2020-12-29</td>\n",
       "      <td>5.130</td>\n",
       "      <td>5.138</td>\n",
       "      <td>5.152</td>\n",
       "      <td>5.106</td>\n",
       "      <td>5.114</td>\n",
       "      <td>-0.016</td>\n",
       "      <td>-0.3119</td>\n",
       "      <td>3427179.00</td>\n",
       "      <td>1756155.512</td>\n",
       "    </tr>\n",
       "    <tr>\n",
       "      <td>1</td>\n",
       "      <td>510300.SH</td>\n",
       "      <td>2020-12-30</td>\n",
       "      <td>5.114</td>\n",
       "      <td>5.110</td>\n",
       "      <td>5.180</td>\n",
       "      <td>5.107</td>\n",
       "      <td>5.178</td>\n",
       "      <td>0.064</td>\n",
       "      <td>1.2515</td>\n",
       "      <td>3406715.18</td>\n",
       "      <td>1756760.313</td>\n",
       "    </tr>\n",
       "    <tr>\n",
       "      <td>0</td>\n",
       "      <td>510300.SH</td>\n",
       "      <td>2020-12-31</td>\n",
       "      <td>5.178</td>\n",
       "      <td>5.188</td>\n",
       "      <td>5.293</td>\n",
       "      <td>5.186</td>\n",
       "      <td>5.287</td>\n",
       "      <td>0.109</td>\n",
       "      <td>2.1051</td>\n",
       "      <td>8617991.57</td>\n",
       "      <td>4531294.876</td>\n",
       "    </tr>\n",
       "  </tbody>\n",
       "</table>\n",
       "</div>"
      ],
      "text/plain": [
       "     ts_code trade_date  pre_close   open   high    low  close  change  \\\n",
       "4  510300.SH 2020-12-25      5.074  5.054  5.119  5.043  5.116   0.042   \n",
       "3  510300.SH 2020-12-28      5.116  5.112  5.160  5.103  5.130   0.014   \n",
       "2  510300.SH 2020-12-29      5.130  5.138  5.152  5.106  5.114  -0.016   \n",
       "1  510300.SH 2020-12-30      5.114  5.110  5.180  5.107  5.178   0.064   \n",
       "0  510300.SH 2020-12-31      5.178  5.188  5.293  5.186  5.287   0.109   \n",
       "\n",
       "   pct_chg         vol       amount  \n",
       "4   0.8277  4033561.29  2053182.584  \n",
       "3   0.2737  4471300.14  2291869.850  \n",
       "2  -0.3119  3427179.00  1756155.512  \n",
       "1   1.2515  3406715.18  1756760.313  \n",
       "0   2.1051  8617991.57  4531294.876  "
      ]
     },
     "execution_count": 11,
     "metadata": {},
     "output_type": "execute_result"
    }
   ],
   "source": [
    "etf_HS300.tail()"
   ]
  },
  {
   "cell_type": "code",
   "execution_count": 12,
   "metadata": {
    "pycharm": {
     "name": "#%%\n"
    }
   },
   "outputs": [],
   "source": [
    "etf_HS300.set_index('trade_date',inplace=True)"
   ]
  },
  {
   "cell_type": "code",
   "execution_count": 13,
   "metadata": {
    "pycharm": {
     "name": "#%%\n"
    }
   },
   "outputs": [
    {
     "data": {
      "text/html": [
       "<div>\n",
       "<style scoped>\n",
       "    .dataframe tbody tr th:only-of-type {\n",
       "        vertical-align: middle;\n",
       "    }\n",
       "\n",
       "    .dataframe tbody tr th {\n",
       "        vertical-align: top;\n",
       "    }\n",
       "\n",
       "    .dataframe thead th {\n",
       "        text-align: right;\n",
       "    }\n",
       "</style>\n",
       "<table border=\"1\" class=\"dataframe\">\n",
       "  <thead>\n",
       "    <tr style=\"text-align: right;\">\n",
       "      <th></th>\n",
       "      <th>ts_code</th>\n",
       "      <th>pre_close</th>\n",
       "      <th>open</th>\n",
       "      <th>high</th>\n",
       "      <th>low</th>\n",
       "      <th>close</th>\n",
       "      <th>change</th>\n",
       "      <th>pct_chg</th>\n",
       "      <th>vol</th>\n",
       "      <th>amount</th>\n",
       "    </tr>\n",
       "    <tr>\n",
       "      <th>trade_date</th>\n",
       "      <th></th>\n",
       "      <th></th>\n",
       "      <th></th>\n",
       "      <th></th>\n",
       "      <th></th>\n",
       "      <th></th>\n",
       "      <th></th>\n",
       "      <th></th>\n",
       "      <th></th>\n",
       "      <th></th>\n",
       "    </tr>\n",
       "  </thead>\n",
       "  <tbody>\n",
       "    <tr>\n",
       "      <td>2016-11-25</td>\n",
       "      <td>510300.SH</td>\n",
       "      <td>3.547</td>\n",
       "      <td>3.547</td>\n",
       "      <td>3.588</td>\n",
       "      <td>3.521</td>\n",
       "      <td>3.586</td>\n",
       "      <td>0.039</td>\n",
       "      <td>1.0995</td>\n",
       "      <td>1347871.11</td>\n",
       "      <td>480069.676</td>\n",
       "    </tr>\n",
       "    <tr>\n",
       "      <td>2016-11-28</td>\n",
       "      <td>510300.SH</td>\n",
       "      <td>3.586</td>\n",
       "      <td>3.594</td>\n",
       "      <td>3.620</td>\n",
       "      <td>3.593</td>\n",
       "      <td>3.602</td>\n",
       "      <td>0.016</td>\n",
       "      <td>0.4462</td>\n",
       "      <td>1483483.31</td>\n",
       "      <td>534775.704</td>\n",
       "    </tr>\n",
       "    <tr>\n",
       "      <td>2016-11-29</td>\n",
       "      <td>510300.SH</td>\n",
       "      <td>3.602</td>\n",
       "      <td>3.592</td>\n",
       "      <td>3.648</td>\n",
       "      <td>3.580</td>\n",
       "      <td>3.630</td>\n",
       "      <td>0.028</td>\n",
       "      <td>0.7773</td>\n",
       "      <td>1591360.67</td>\n",
       "      <td>575802.838</td>\n",
       "    </tr>\n",
       "    <tr>\n",
       "      <td>2016-11-30</td>\n",
       "      <td>510300.SH</td>\n",
       "      <td>3.630</td>\n",
       "      <td>3.621</td>\n",
       "      <td>3.632</td>\n",
       "      <td>3.591</td>\n",
       "      <td>3.597</td>\n",
       "      <td>-0.033</td>\n",
       "      <td>-0.9091</td>\n",
       "      <td>1660676.58</td>\n",
       "      <td>598824.969</td>\n",
       "    </tr>\n",
       "    <tr>\n",
       "      <td>2016-12-01</td>\n",
       "      <td>510300.SH</td>\n",
       "      <td>3.597</td>\n",
       "      <td>3.599</td>\n",
       "      <td>3.643</td>\n",
       "      <td>3.599</td>\n",
       "      <td>3.631</td>\n",
       "      <td>0.034</td>\n",
       "      <td>0.9452</td>\n",
       "      <td>1128864.74</td>\n",
       "      <td>408535.640</td>\n",
       "    </tr>\n",
       "  </tbody>\n",
       "</table>\n",
       "</div>"
      ],
      "text/plain": [
       "              ts_code  pre_close   open   high    low  close  change  pct_chg  \\\n",
       "trade_date                                                                      \n",
       "2016-11-25  510300.SH      3.547  3.547  3.588  3.521  3.586   0.039   1.0995   \n",
       "2016-11-28  510300.SH      3.586  3.594  3.620  3.593  3.602   0.016   0.4462   \n",
       "2016-11-29  510300.SH      3.602  3.592  3.648  3.580  3.630   0.028   0.7773   \n",
       "2016-11-30  510300.SH      3.630  3.621  3.632  3.591  3.597  -0.033  -0.9091   \n",
       "2016-12-01  510300.SH      3.597  3.599  3.643  3.599  3.631   0.034   0.9452   \n",
       "\n",
       "                   vol      amount  \n",
       "trade_date                          \n",
       "2016-11-25  1347871.11  480069.676  \n",
       "2016-11-28  1483483.31  534775.704  \n",
       "2016-11-29  1591360.67  575802.838  \n",
       "2016-11-30  1660676.58  598824.969  \n",
       "2016-12-01  1128864.74  408535.640  "
      ]
     },
     "execution_count": 13,
     "metadata": {},
     "output_type": "execute_result"
    }
   ],
   "source": [
    "etf_HS300.head()"
   ]
  },
  {
   "cell_type": "code",
   "execution_count": 14,
   "metadata": {
    "pycharm": {
     "name": "#%%\n"
    }
   },
   "outputs": [
    {
     "data": {
      "text/html": [
       "<div>\n",
       "<style scoped>\n",
       "    .dataframe tbody tr th:only-of-type {\n",
       "        vertical-align: middle;\n",
       "    }\n",
       "\n",
       "    .dataframe tbody tr th {\n",
       "        vertical-align: top;\n",
       "    }\n",
       "\n",
       "    .dataframe thead th {\n",
       "        text-align: right;\n",
       "    }\n",
       "</style>\n",
       "<table border=\"1\" class=\"dataframe\">\n",
       "  <thead>\n",
       "    <tr style=\"text-align: right;\">\n",
       "      <th></th>\n",
       "      <th>ts_code</th>\n",
       "      <th>pre_close</th>\n",
       "      <th>open</th>\n",
       "      <th>high</th>\n",
       "      <th>low</th>\n",
       "      <th>close</th>\n",
       "      <th>change</th>\n",
       "      <th>pct_chg</th>\n",
       "      <th>vol</th>\n",
       "      <th>amount</th>\n",
       "    </tr>\n",
       "    <tr>\n",
       "      <th>trade_date</th>\n",
       "      <th></th>\n",
       "      <th></th>\n",
       "      <th></th>\n",
       "      <th></th>\n",
       "      <th></th>\n",
       "      <th></th>\n",
       "      <th></th>\n",
       "      <th></th>\n",
       "      <th></th>\n",
       "      <th></th>\n",
       "    </tr>\n",
       "  </thead>\n",
       "  <tbody>\n",
       "    <tr>\n",
       "      <td>2020-12-25</td>\n",
       "      <td>510300.SH</td>\n",
       "      <td>5.074</td>\n",
       "      <td>5.054</td>\n",
       "      <td>5.119</td>\n",
       "      <td>5.043</td>\n",
       "      <td>5.116</td>\n",
       "      <td>0.042</td>\n",
       "      <td>0.8277</td>\n",
       "      <td>4033561.29</td>\n",
       "      <td>2053182.584</td>\n",
       "    </tr>\n",
       "    <tr>\n",
       "      <td>2020-12-28</td>\n",
       "      <td>510300.SH</td>\n",
       "      <td>5.116</td>\n",
       "      <td>5.112</td>\n",
       "      <td>5.160</td>\n",
       "      <td>5.103</td>\n",
       "      <td>5.130</td>\n",
       "      <td>0.014</td>\n",
       "      <td>0.2737</td>\n",
       "      <td>4471300.14</td>\n",
       "      <td>2291869.850</td>\n",
       "    </tr>\n",
       "    <tr>\n",
       "      <td>2020-12-29</td>\n",
       "      <td>510300.SH</td>\n",
       "      <td>5.130</td>\n",
       "      <td>5.138</td>\n",
       "      <td>5.152</td>\n",
       "      <td>5.106</td>\n",
       "      <td>5.114</td>\n",
       "      <td>-0.016</td>\n",
       "      <td>-0.3119</td>\n",
       "      <td>3427179.00</td>\n",
       "      <td>1756155.512</td>\n",
       "    </tr>\n",
       "    <tr>\n",
       "      <td>2020-12-30</td>\n",
       "      <td>510300.SH</td>\n",
       "      <td>5.114</td>\n",
       "      <td>5.110</td>\n",
       "      <td>5.180</td>\n",
       "      <td>5.107</td>\n",
       "      <td>5.178</td>\n",
       "      <td>0.064</td>\n",
       "      <td>1.2515</td>\n",
       "      <td>3406715.18</td>\n",
       "      <td>1756760.313</td>\n",
       "    </tr>\n",
       "    <tr>\n",
       "      <td>2020-12-31</td>\n",
       "      <td>510300.SH</td>\n",
       "      <td>5.178</td>\n",
       "      <td>5.188</td>\n",
       "      <td>5.293</td>\n",
       "      <td>5.186</td>\n",
       "      <td>5.287</td>\n",
       "      <td>0.109</td>\n",
       "      <td>2.1051</td>\n",
       "      <td>8617991.57</td>\n",
       "      <td>4531294.876</td>\n",
       "    </tr>\n",
       "  </tbody>\n",
       "</table>\n",
       "</div>"
      ],
      "text/plain": [
       "              ts_code  pre_close   open   high    low  close  change  pct_chg  \\\n",
       "trade_date                                                                      \n",
       "2020-12-25  510300.SH      5.074  5.054  5.119  5.043  5.116   0.042   0.8277   \n",
       "2020-12-28  510300.SH      5.116  5.112  5.160  5.103  5.130   0.014   0.2737   \n",
       "2020-12-29  510300.SH      5.130  5.138  5.152  5.106  5.114  -0.016  -0.3119   \n",
       "2020-12-30  510300.SH      5.114  5.110  5.180  5.107  5.178   0.064   1.2515   \n",
       "2020-12-31  510300.SH      5.178  5.188  5.293  5.186  5.287   0.109   2.1051   \n",
       "\n",
       "                   vol       amount  \n",
       "trade_date                           \n",
       "2020-12-25  4033561.29  2053182.584  \n",
       "2020-12-28  4471300.14  2291869.850  \n",
       "2020-12-29  3427179.00  1756155.512  \n",
       "2020-12-30  3406715.18  1756760.313  \n",
       "2020-12-31  8617991.57  4531294.876  "
      ]
     },
     "execution_count": 14,
     "metadata": {},
     "output_type": "execute_result"
    }
   ],
   "source": [
    "etf_HS300.tail()\n"
   ]
  },
  {
   "cell_type": "code",
   "execution_count": 15,
   "metadata": {
    "pycharm": {
     "name": "#%%\n"
    }
   },
   "outputs": [
    {
     "data": {
      "text/html": [
       "<div>\n",
       "<style scoped>\n",
       "    .dataframe tbody tr th:only-of-type {\n",
       "        vertical-align: middle;\n",
       "    }\n",
       "\n",
       "    .dataframe tbody tr th {\n",
       "        vertical-align: top;\n",
       "    }\n",
       "\n",
       "    .dataframe thead th {\n",
       "        text-align: right;\n",
       "    }\n",
       "</style>\n",
       "<table border=\"1\" class=\"dataframe\">\n",
       "  <thead>\n",
       "    <tr style=\"text-align: right;\">\n",
       "      <th></th>\n",
       "      <th>pre_close</th>\n",
       "      <th>open</th>\n",
       "      <th>high</th>\n",
       "      <th>low</th>\n",
       "      <th>close</th>\n",
       "      <th>change</th>\n",
       "      <th>pct_chg</th>\n",
       "      <th>vol</th>\n",
       "      <th>amount</th>\n",
       "    </tr>\n",
       "  </thead>\n",
       "  <tbody>\n",
       "    <tr>\n",
       "      <td>count</td>\n",
       "      <td>1000.000000</td>\n",
       "      <td>1000.000000</td>\n",
       "      <td>1000.000000</td>\n",
       "      <td>1000.000000</td>\n",
       "      <td>1000.000000</td>\n",
       "      <td>1000.000000</td>\n",
       "      <td>1000.000000</td>\n",
       "      <td>1.000000e+03</td>\n",
       "      <td>1.000000e+03</td>\n",
       "    </tr>\n",
       "    <tr>\n",
       "      <td>mean</td>\n",
       "      <td>3.870139</td>\n",
       "      <td>3.868966</td>\n",
       "      <td>3.898058</td>\n",
       "      <td>3.842446</td>\n",
       "      <td>3.872101</td>\n",
       "      <td>0.001962</td>\n",
       "      <td>0.053736</td>\n",
       "      <td>2.782729e+06</td>\n",
       "      <td>1.098614e+06</td>\n",
       "    </tr>\n",
       "    <tr>\n",
       "      <td>std</td>\n",
       "      <td>0.467297</td>\n",
       "      <td>0.467871</td>\n",
       "      <td>0.472110</td>\n",
       "      <td>0.463937</td>\n",
       "      <td>0.469236</td>\n",
       "      <td>0.048360</td>\n",
       "      <td>1.239574</td>\n",
       "      <td>1.909533e+06</td>\n",
       "      <td>8.032716e+05</td>\n",
       "    </tr>\n",
       "    <tr>\n",
       "      <td>min</td>\n",
       "      <td>3.017000</td>\n",
       "      <td>3.001000</td>\n",
       "      <td>3.061000</td>\n",
       "      <td>2.997000</td>\n",
       "      <td>3.017000</td>\n",
       "      <td>-0.337000</td>\n",
       "      <td>-8.433400</td>\n",
       "      <td>4.907881e+05</td>\n",
       "      <td>1.862439e+05</td>\n",
       "    </tr>\n",
       "    <tr>\n",
       "      <td>25%</td>\n",
       "      <td>3.493750</td>\n",
       "      <td>3.493500</td>\n",
       "      <td>3.517500</td>\n",
       "      <td>3.469750</td>\n",
       "      <td>3.493750</td>\n",
       "      <td>-0.021000</td>\n",
       "      <td>-0.577300</td>\n",
       "      <td>1.280062e+06</td>\n",
       "      <td>4.771181e+05</td>\n",
       "    </tr>\n",
       "    <tr>\n",
       "      <td>50%</td>\n",
       "      <td>3.846500</td>\n",
       "      <td>3.841000</td>\n",
       "      <td>3.869500</td>\n",
       "      <td>3.817500</td>\n",
       "      <td>3.847500</td>\n",
       "      <td>0.002000</td>\n",
       "      <td>0.059550</td>\n",
       "      <td>2.360861e+06</td>\n",
       "      <td>8.968264e+05</td>\n",
       "    </tr>\n",
       "    <tr>\n",
       "      <td>75%</td>\n",
       "      <td>4.050000</td>\n",
       "      <td>4.049250</td>\n",
       "      <td>4.078000</td>\n",
       "      <td>4.021000</td>\n",
       "      <td>4.050750</td>\n",
       "      <td>0.026000</td>\n",
       "      <td>0.683750</td>\n",
       "      <td>3.678275e+06</td>\n",
       "      <td>1.465703e+06</td>\n",
       "    </tr>\n",
       "    <tr>\n",
       "      <td>max</td>\n",
       "      <td>5.178000</td>\n",
       "      <td>5.188000</td>\n",
       "      <td>5.293000</td>\n",
       "      <td>5.186000</td>\n",
       "      <td>5.287000</td>\n",
       "      <td>0.327000</td>\n",
       "      <td>7.336800</td>\n",
       "      <td>1.471076e+07</td>\n",
       "      <td>6.024139e+06</td>\n",
       "    </tr>\n",
       "  </tbody>\n",
       "</table>\n",
       "</div>"
      ],
      "text/plain": [
       "         pre_close         open         high          low        close  \\\n",
       "count  1000.000000  1000.000000  1000.000000  1000.000000  1000.000000   \n",
       "mean      3.870139     3.868966     3.898058     3.842446     3.872101   \n",
       "std       0.467297     0.467871     0.472110     0.463937     0.469236   \n",
       "min       3.017000     3.001000     3.061000     2.997000     3.017000   \n",
       "25%       3.493750     3.493500     3.517500     3.469750     3.493750   \n",
       "50%       3.846500     3.841000     3.869500     3.817500     3.847500   \n",
       "75%       4.050000     4.049250     4.078000     4.021000     4.050750   \n",
       "max       5.178000     5.188000     5.293000     5.186000     5.287000   \n",
       "\n",
       "            change      pct_chg           vol        amount  \n",
       "count  1000.000000  1000.000000  1.000000e+03  1.000000e+03  \n",
       "mean      0.001962     0.053736  2.782729e+06  1.098614e+06  \n",
       "std       0.048360     1.239574  1.909533e+06  8.032716e+05  \n",
       "min      -0.337000    -8.433400  4.907881e+05  1.862439e+05  \n",
       "25%      -0.021000    -0.577300  1.280062e+06  4.771181e+05  \n",
       "50%       0.002000     0.059550  2.360861e+06  8.968264e+05  \n",
       "75%       0.026000     0.683750  3.678275e+06  1.465703e+06  \n",
       "max       0.327000     7.336800  1.471076e+07  6.024139e+06  "
      ]
     },
     "execution_count": 15,
     "metadata": {},
     "output_type": "execute_result"
    }
   ],
   "source": [
    "etf_HS300.describe()\n"
   ]
  },
  {
   "cell_type": "code",
   "execution_count": 16,
   "metadata": {
    "pycharm": {
     "name": "#%%\n"
    }
   },
   "outputs": [
    {
     "data": {
      "text/plain": [
       "trade_date\n",
       "2016-11-25    3.586\n",
       "2016-11-28    3.602\n",
       "2016-11-29    3.630\n",
       "2016-11-30    3.597\n",
       "2016-12-01    3.631\n",
       "Name: close, dtype: float64"
      ]
     },
     "execution_count": 16,
     "metadata": {},
     "output_type": "execute_result"
    }
   ],
   "source": [
    "# pd.DataFrame.idxmin()\n",
    "# 最重要的价格是每日的收盘价\n",
    "etf_HS300['close'].head()\n"
   ]
  },
  {
   "cell_type": "code",
   "execution_count": 17,
   "metadata": {
    "pycharm": {
     "name": "#%%\n"
    }
   },
   "outputs": [
    {
     "data": {
      "text/plain": [
       "trade_date\n",
       "2020-12-25    5.116\n",
       "2020-12-28    5.130\n",
       "2020-12-29    5.114\n",
       "2020-12-30    5.178\n",
       "2020-12-31    5.287\n",
       "Name: close, dtype: float64"
      ]
     },
     "execution_count": 17,
     "metadata": {},
     "output_type": "execute_result"
    }
   ],
   "source": [
    "etf_HS300['close'].tail()"
   ]
  },
  {
   "cell_type": "code",
   "execution_count": 18,
   "metadata": {
    "pycharm": {
     "name": "#%%\n"
    }
   },
   "outputs": [
    {
     "data": {
      "text/plain": [
       "3.017"
      ]
     },
     "execution_count": 18,
     "metadata": {},
     "output_type": "execute_result"
    }
   ],
   "source": [
    "etf_HS300['close'].min()"
   ]
  },
  {
   "cell_type": "code",
   "execution_count": 19,
   "metadata": {
    "pycharm": {
     "name": "#%%\n"
    }
   },
   "outputs": [
    {
     "data": {
      "text/plain": [
       "Timestamp('2019-01-02 00:00:00')"
      ]
     },
     "execution_count": 19,
     "metadata": {},
     "output_type": "execute_result"
    }
   ],
   "source": [
    "\n",
    "etf_HS300['close'].idxmin()"
   ]
  },
  {
   "cell_type": "code",
   "execution_count": 20,
   "metadata": {
    "pycharm": {
     "name": "#%%\n"
    }
   },
   "outputs": [
    {
     "data": {
      "text/plain": [
       "5.287"
      ]
     },
     "execution_count": 20,
     "metadata": {},
     "output_type": "execute_result"
    }
   ],
   "source": [
    "etf_HS300['close'].max()"
   ]
  },
  {
   "cell_type": "code",
   "execution_count": 21,
   "metadata": {
    "pycharm": {
     "name": "#%%\n"
    }
   },
   "outputs": [
    {
     "data": {
      "text/plain": [
       "Timestamp('2020-12-31 00:00:00')"
      ]
     },
     "execution_count": 21,
     "metadata": {},
     "output_type": "execute_result"
    }
   ],
   "source": [
    "etf_HS300['close'].idxmax()"
   ]
  },
  {
   "cell_type": "code",
   "execution_count": 22,
   "metadata": {
    "pycharm": {
     "name": "#%%\n"
    }
   },
   "outputs": [
    {
     "data": {
      "text/plain": [
       "<matplotlib.axes._subplots.AxesSubplot at 0x7fbc98c95450>"
      ]
     },
     "execution_count": 22,
     "metadata": {},
     "output_type": "execute_result"
    },
    {
     "data": {
      "image/png": "[encoded data removed]",
      "text/plain": [
       "<Figure size 432x288 with 1 Axes>"
      ]
     },
     "metadata": {
      "needs_background": "light"
     },
     "output_type": "display_data"
    }
   ],
   "source": [
    "etf_HS300['close'].plot()"
   ]
  },
  {
   "cell_type": "code",
   "execution_count": 23,
   "metadata": {
    "pycharm": {
     "name": "#%%\n"
    }
   },
   "outputs": [
    {
     "name": "stdout",
     "output_type": "stream",
     "text": [
      "Using matplotlib backend: MacOSX\n"
     ]
    }
   ],
   "source": [
    "%matplotlib\n",
    "import matplotlib.pyplot as plt\n"
   ]
  },
  {
   "cell_type": "code",
   "execution_count": 2,
   "metadata": {
    "pycharm": {
     "name": "#%%\n"
    }
   },
   "outputs": [
    {
     "ename": "NameError",
     "evalue": "name 'plt' is not defined",
     "output_type": "error",
     "traceback": [
      "\u001b[0;31m---------------------------------------------------------------------------\u001b[0m",
      "\u001b[0;31mNameError\u001b[0m                                 Traceback (most recent call last)",
      "\u001b[0;32m<ipython-input-2-d8c6b2e90deb>\u001b[0m in \u001b[0;36m<module>\u001b[0;34m\u001b[0m\n\u001b[0;32m----> 1\u001b[0;31m \u001b[0max1\u001b[0m \u001b[0;34m=\u001b[0m \u001b[0mplt\u001b[0m\u001b[0;34m.\u001b[0m\u001b[0msubplot2grid\u001b[0m\u001b[0;34m(\u001b[0m\u001b[0;34m(\u001b[0m\u001b[0;36m9\u001b[0m\u001b[0;34m,\u001b[0m\u001b[0;36m10\u001b[0m\u001b[0;34m)\u001b[0m\u001b[0;34m,\u001b[0m\u001b[0;34m(\u001b[0m\u001b[0;36m0\u001b[0m\u001b[0;34m,\u001b[0m\u001b[0;36m0\u001b[0m\u001b[0;34m)\u001b[0m\u001b[0;34m,\u001b[0m\u001b[0mrowspan\u001b[0m \u001b[0;34m=\u001b[0m \u001b[0;36m7\u001b[0m \u001b[0;34m,\u001b[0m\u001b[0mcolspan\u001b[0m\u001b[0;34m=\u001b[0m \u001b[0;36m10\u001b[0m\u001b[0;34m)\u001b[0m\u001b[0;34m\u001b[0m\u001b[0;34m\u001b[0m\u001b[0m\n\u001b[0m\u001b[1;32m      2\u001b[0m \u001b[0max2\u001b[0m \u001b[0;34m=\u001b[0m \u001b[0mplt\u001b[0m\u001b[0;34m.\u001b[0m\u001b[0msubplot2grid\u001b[0m\u001b[0;34m(\u001b[0m\u001b[0;34m(\u001b[0m\u001b[0;36m9\u001b[0m\u001b[0;34m,\u001b[0m\u001b[0;36m10\u001b[0m\u001b[0;34m)\u001b[0m\u001b[0;34m,\u001b[0m\u001b[0;34m(\u001b[0m\u001b[0;36m7\u001b[0m\u001b[0;34m,\u001b[0m\u001b[0;36m0\u001b[0m\u001b[0;34m)\u001b[0m\u001b[0;34m,\u001b[0m\u001b[0mrowspan\u001b[0m \u001b[0;34m=\u001b[0m \u001b[0;36m7\u001b[0m \u001b[0;34m,\u001b[0m\u001b[0mcolspan\u001b[0m\u001b[0;34m=\u001b[0m \u001b[0;36m10\u001b[0m\u001b[0;34m,\u001b[0m\u001b[0msharex\u001b[0m \u001b[0;34m=\u001b[0m \u001b[0max1\u001b[0m\u001b[0;34m)\u001b[0m\u001b[0;34m\u001b[0m\u001b[0;34m\u001b[0m\u001b[0m\n",
      "\u001b[0;31mNameError\u001b[0m: name 'plt' is not defined"
     ]
    }
   ],
   "source": [
    "ax1 = plt.subplot2grid((9,10),(0,0),rowspan = 7 ,colspan= 10)\n",
    "ax2 = plt.subplot2grid((9,10),(7,0),rowspan = 7 ,colspan= 10,sharex = ax1)"
   ]
  },
  {
   "cell_type": "code",
   "execution_count": 1,
   "metadata": {
    "pycharm": {
     "name": "#%%\n"
    }
   },
   "outputs": [
    {
     "ename": "NameError",
     "evalue": "name 'ax1' is not defined",
     "output_type": "error",
     "traceback": [
      "\u001b[0;31m---------------------------------------------------------------------------\u001b[0m",
      "\u001b[0;31mNameError\u001b[0m                                 Traceback (most recent call last)",
      "\u001b[0;32m<ipython-input-1-eb2cd6048f4c>\u001b[0m in \u001b[0;36m<module>\u001b[0;34m\u001b[0m\n\u001b[0;32m----> 1\u001b[0;31m \u001b[0max1\u001b[0m\u001b[0;34m.\u001b[0m\u001b[0mplot\u001b[0m\u001b[0;34m(\u001b[0m\u001b[0metf_HS300\u001b[0m\u001b[0;34m.\u001b[0m\u001b[0mindex\u001b[0m\u001b[0;34m,\u001b[0m\u001b[0metf_HS300\u001b[0m\u001b[0;34m[\u001b[0m\u001b[0;34m'close'\u001b[0m\u001b[0;34m]\u001b[0m\u001b[0;34m,\u001b[0m\u001b[0mlabel\u001b[0m \u001b[0;34m=\u001b[0m \u001b[0;34m'ETF_沪深300收盘价（乐学偶得课堂演示）'\u001b[0m\u001b[0;34m)\u001b[0m\u001b[0;34m\u001b[0m\u001b[0;34m\u001b[0m\u001b[0m\n\u001b[0m\u001b[1;32m      2\u001b[0m \u001b[0max2\u001b[0m\u001b[0;34m.\u001b[0m\u001b[0mplot\u001b[0m\u001b[0;34m(\u001b[0m\u001b[0metf_HS300\u001b[0m\u001b[0;34m.\u001b[0m\u001b[0mindex\u001b[0m\u001b[0;34m,\u001b[0m\u001b[0metf_HS300\u001b[0m\u001b[0;34m[\u001b[0m\u001b[0;34m'vol'\u001b[0m\u001b[0;34m]\u001b[0m\u001b[0;34m,\u001b[0m\u001b[0mlabel\u001b[0m \u001b[0;34m=\u001b[0m \u001b[0;34m'ETF_沪深300交易量（乐学偶得课堂演示）'\u001b[0m\u001b[0;34m)\u001b[0m\u001b[0;34m\u001b[0m\u001b[0;34m\u001b[0m\u001b[0m\n\u001b[1;32m      3\u001b[0m \u001b[0max1\u001b[0m\u001b[0;34m.\u001b[0m\u001b[0mlegend\u001b[0m\u001b[0;34m(\u001b[0m\u001b[0;34m)\u001b[0m\u001b[0;34m\u001b[0m\u001b[0;34m\u001b[0m\u001b[0m\n\u001b[1;32m      4\u001b[0m \u001b[0max2\u001b[0m\u001b[0;34m.\u001b[0m\u001b[0mlegend\u001b[0m\u001b[0;34m(\u001b[0m\u001b[0mloc\u001b[0m\u001b[0;34m=\u001b[0m\u001b[0;34m\"upper left\"\u001b[0m\u001b[0;34m)\u001b[0m\u001b[0;34m\u001b[0m\u001b[0;34m\u001b[0m\u001b[0m\n",
      "\u001b[0;31mNameError\u001b[0m: name 'ax1' is not defined"
     ]
    }
   ],
   "source": [
    "ax1.plot(etf_HS300.index,etf_HS300['close'],label = 'ETF_沪深300收盘价（乐学偶得课堂演示）')\n",
    "ax2.plot(etf_HS300.index,etf_HS300['vol'],label = 'ETF_沪深300交易量（乐学偶得课堂演示）')\n",
    "ax1.legend()\n",
    "ax2.legend(loc=\"upper left\")\n"
   ]
  },
  {
   "cell_type": "code",
   "execution_count": 47,
   "metadata": {
    "pycharm": {
     "name": "#%%\n"
    }
   },
   "outputs": [],
   "source": []
  }
 ],
 "metadata": {
  "kernelspec": {
   "display_name": "PyCharm (sklearn)",
   "language": "python",
   "name": "pycharm-9607c1d0"
  },
  "language_info": {
   "codemirror_mode": {
    "name": "ipython",
    "version": 3
   },
   "file_extension": ".py",
   "mimetype": "text/x-python",
   "name": "python",
   "nbconvert_exporter": "python",
   "pygments_lexer": "ipython3",
   "version": "3.7.4"
  }
 },
 "nbformat": 4,
 "nbformat_minor": 1
}
