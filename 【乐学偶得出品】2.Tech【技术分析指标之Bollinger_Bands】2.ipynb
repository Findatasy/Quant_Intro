{
 "cells": [
  {
   "cell_type": "code",
   "execution_count": 1,
   "metadata": {},
   "outputs": [
    {
     "ename": "ModuleNotFoundError",
     "evalue": "No module named 'talib'",
     "output_type": "error",
     "traceback": [
      "\u001B[0;31m---------------------------------------------------------------------------\u001B[0m",
      "\u001B[0;31mModuleNotFoundError\u001B[0m                       Traceback (most recent call last)",
      "\u001B[0;32m<ipython-input-1-276fdf78a7e4>\u001B[0m in \u001B[0;36m<module>\u001B[0;34m\u001B[0m\n\u001B[1;32m      2\u001B[0m \u001B[0;32mimport\u001B[0m \u001B[0mpandas\u001B[0m \u001B[0;32mas\u001B[0m \u001B[0mpd\u001B[0m\u001B[0;34m\u001B[0m\u001B[0;34m\u001B[0m\u001B[0m\n\u001B[1;32m      3\u001B[0m \u001B[0;32mimport\u001B[0m \u001B[0mnumpy\u001B[0m \u001B[0;32mas\u001B[0m \u001B[0mnp\u001B[0m\u001B[0;34m\u001B[0m\u001B[0;34m\u001B[0m\u001B[0m\n\u001B[0;32m----> 4\u001B[0;31m \u001B[0;32mimport\u001B[0m \u001B[0mtalib\u001B[0m\u001B[0;34m\u001B[0m\u001B[0;34m\u001B[0m\u001B[0m\n\u001B[0m\u001B[1;32m      5\u001B[0m \u001B[0;32mimport\u001B[0m \u001B[0mpandas\u001B[0m \u001B[0;32mas\u001B[0m \u001B[0mpd\u001B[0m\u001B[0;34m\u001B[0m\u001B[0;34m\u001B[0m\u001B[0m\n\u001B[1;32m      6\u001B[0m \u001B[0;32mimport\u001B[0m \u001B[0mmatplotlib\u001B[0m\u001B[0;34m.\u001B[0m\u001B[0mpyplot\u001B[0m \u001B[0;32mas\u001B[0m \u001B[0mplt\u001B[0m\u001B[0;34m\u001B[0m\u001B[0;34m\u001B[0m\u001B[0m\n",
      "\u001B[0;31mModuleNotFoundError\u001B[0m: No module named 'talib'"
     ]
    }
   ],
   "source": [
    "# 乐学偶得版权所有 lexueoude.com 公众号1：乐学Fintech 2: 乐学偶得\n",
    "import tushare as ts\n",
    "import pandas as pd\n",
    "import numpy as np\n",
    "import talib\n",
    "import pandas as pd\n",
    "import matplotlib.pyplot as plt\n",
    "\n",
    "\n",
    "\n",
    "pro=ts.pro_api()\n",
    "df_whole=pro.daily(ts_code=\"000001.SZ\",start_date=\"20180601\",end_date=\"20190630\")\n",
    "\n",
    "df_whole['trade_date'] = pd.to_datetime(df_whole['trade_date'],format='%Y%m%d')\n",
    "df_whole.set_index('trade_date',inplace=True)\n",
    "print(df_whole.head())\n",
    "\n",
    "\n",
    "symbol=\"000001.SZ\"\n",
    "df=df_whole[\"close\"]\n",
    "# calculate Simple Moving Average with 20 days window\n",
    "sma = df.rolling(window=20).mean()\n",
    "# calculate the standar deviation\n",
    "rstd = df.rolling(window=20).std()\n",
    "upper_band = sma + 2 * rstd\n",
    "upper_band=upper_band.to_frame()\n",
    "upper_band=upper_band.rename({'close': 'upper'}, axis=1) \n",
    "lower_band = sma - 2 * rstd\n",
    "lower_band=lower_band.to_frame()\n",
    "lower_band=lower_band.rename({'close': 'lower'}, axis=1) \n",
    "\n",
    "BB_df=pd.concat([df,upper_band, lower_band], axis=1)\n",
    "print(BB_df)\n",
    "BB_df.dropna(inplace=True)\n",
    "print(BB_df)\n",
    "\n",
    "ax = df.plot(title='{} Price and BB'.format(symbol))\n",
    "ax.fill_between(BB_df.index, BB_df['lower'], BB_df['upper'], color='#ADCCFF', alpha='0.8')\n",
    "ax.set_xlabel('date')\n",
    "ax.set_ylabel('SMA and BB')\n",
    "ax.grid()\n",
    "plt.show()"
   ]
  },
  {
   "cell_type": "code",
   "execution_count": null,
   "metadata": {},
   "outputs": [],
   "source": []
  }
 ],
 "metadata": {
  "kernelspec": {
   "name": "pycharm-9607c1d0",
   "language": "python",
   "display_name": "PyCharm (sklearn)"
  },
  "language_info": {
   "codemirror_mode": {
    "name": "ipython",
    "version": 3
   },
   "file_extension": ".py",
   "mimetype": "text/x-python",
   "name": "python",
   "nbconvert_exporter": "python",
   "pygments_lexer": "ipython3",
   "version": "3.7.2"
  }
 },
 "nbformat": 4,
 "nbformat_minor": 2
}