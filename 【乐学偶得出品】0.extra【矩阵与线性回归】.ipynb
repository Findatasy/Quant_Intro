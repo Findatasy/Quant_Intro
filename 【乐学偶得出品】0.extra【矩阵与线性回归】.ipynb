{
 "cells": [
  {
   "cell_type": "markdown",
   "metadata": {},
   "source": [
    "乐学偶得版权所有 lexueoude.com 公众号1：乐学Fintech 2: 乐学偶得\n",
    "\n",
    "Regression: 抓住信息\n",
    "\n",
    "$ y = mx +b$\n",
    "\n",
    "$y = b_0+ b_1x_1+ b_2x_2 +...+b_nx_n$\n"
   ]
  },
  {
   "cell_type": "markdown",
   "metadata": {},
   "source": [
    "假设现在有一系列的数据<br>\n",
    "$（x_1,y_1）,（x_2,y_2）（x_3,y_3）...（x_n,y_n)$<br>\n",
    "$y_1=(b+mx_1)+e_1$<br>\n",
    "$y_2=(b+mx_2)+e_2$<br>\n",
    "$y_3=(b+mx_3)+e_3$<br>\n",
    "...<br>\n",
    "$y_n=(b+mx_n)+e_n$<br>"
   ]
  },
  {
   "cell_type": "markdown",
   "metadata": {},
   "source": [
    "$Y = \\begin{bmatrix} y_1\\\\y_2\\\\y_3\\\\...\\\\y_n \\end{bmatrix}$  $X = \\begin{bmatrix} 1&x_1\\\\1&x_2\\\\1&x_3\\\\...&...\\\\1&x_n \\end{bmatrix}$ $A = \\begin{bmatrix} b\\\\m \\end{bmatrix}$ $E = \\begin{bmatrix} e_1\\\\e_2\\\\e_3\\\\...\\\\e_n \\end{bmatrix}$\n",
    "\n",
    "\n",
    "$Y = XA +E$<br>\n",
    "\n",
    "\n",
    "\n",
    "\n",
    "$A =(X^TX)^{-1}X^TY $<br>\n",
    "\n",
    "\n",
    "\n",
    "\n",
    "\n",
    "Sum of squared error :$SSE=E^TE$"
   ]
  },
  {
   "cell_type": "code",
   "execution_count": 1,
   "metadata": {},
   "outputs": [
    {
     "data": {
      "text/plain": [
       "array([ 0.        ,  0.1010101 ,  0.2020202 ,  0.3030303 ,  0.4040404 ,\n",
       "        0.50505051,  0.60606061,  0.70707071,  0.80808081,  0.90909091,\n",
       "        1.01010101,  1.11111111,  1.21212121,  1.31313131,  1.41414141,\n",
       "        1.51515152,  1.61616162,  1.71717172,  1.81818182,  1.91919192,\n",
       "        2.02020202,  2.12121212,  2.22222222,  2.32323232,  2.42424242,\n",
       "        2.52525253,  2.62626263,  2.72727273,  2.82828283,  2.92929293,\n",
       "        3.03030303,  3.13131313,  3.23232323,  3.33333333,  3.43434343,\n",
       "        3.53535354,  3.63636364,  3.73737374,  3.83838384,  3.93939394,\n",
       "        4.04040404,  4.14141414,  4.24242424,  4.34343434,  4.44444444,\n",
       "        4.54545455,  4.64646465,  4.74747475,  4.84848485,  4.94949495,\n",
       "        5.05050505,  5.15151515,  5.25252525,  5.35353535,  5.45454545,\n",
       "        5.55555556,  5.65656566,  5.75757576,  5.85858586,  5.95959596,\n",
       "        6.06060606,  6.16161616,  6.26262626,  6.36363636,  6.46464646,\n",
       "        6.56565657,  6.66666667,  6.76767677,  6.86868687,  6.96969697,\n",
       "        7.07070707,  7.17171717,  7.27272727,  7.37373737,  7.47474747,\n",
       "        7.57575758,  7.67676768,  7.77777778,  7.87878788,  7.97979798,\n",
       "        8.08080808,  8.18181818,  8.28282828,  8.38383838,  8.48484848,\n",
       "        8.58585859,  8.68686869,  8.78787879,  8.88888889,  8.98989899,\n",
       "        9.09090909,  9.19191919,  9.29292929,  9.39393939,  9.49494949,\n",
       "        9.5959596 ,  9.6969697 ,  9.7979798 ,  9.8989899 , 10.        ])"
      ]
     },
     "execution_count": 1,
     "metadata": {},
     "output_type": "execute_result"
    }
   ],
   "source": [
    "import numpy as np\n",
    "import statsmodels.api as sm\n",
    "nsample=100\n",
    "x = np.linspace(0, 10, nsample)\n",
    "x"
   ]
  },
  {
   "cell_type": "code",
   "execution_count": 2,
   "metadata": {},
   "outputs": [
    {
     "data": {
      "text/plain": [
       "array([[ 1.        ,  0.        ],\n",
       "       [ 1.        ,  0.1010101 ],\n",
       "       [ 1.        ,  0.2020202 ],\n",
       "       [ 1.        ,  0.3030303 ],\n",
       "       [ 1.        ,  0.4040404 ],\n",
       "       [ 1.        ,  0.50505051],\n",
       "       [ 1.        ,  0.60606061],\n",
       "       [ 1.        ,  0.70707071],\n",
       "       [ 1.        ,  0.80808081],\n",
       "       [ 1.        ,  0.90909091],\n",
       "       [ 1.        ,  1.01010101],\n",
       "       [ 1.        ,  1.11111111],\n",
       "       [ 1.        ,  1.21212121],\n",
       "       [ 1.        ,  1.31313131],\n",
       "       [ 1.        ,  1.41414141],\n",
       "       [ 1.        ,  1.51515152],\n",
       "       [ 1.        ,  1.61616162],\n",
       "       [ 1.        ,  1.71717172],\n",
       "       [ 1.        ,  1.81818182],\n",
       "       [ 1.        ,  1.91919192],\n",
       "       [ 1.        ,  2.02020202],\n",
       "       [ 1.        ,  2.12121212],\n",
       "       [ 1.        ,  2.22222222],\n",
       "       [ 1.        ,  2.32323232],\n",
       "       [ 1.        ,  2.42424242],\n",
       "       [ 1.        ,  2.52525253],\n",
       "       [ 1.        ,  2.62626263],\n",
       "       [ 1.        ,  2.72727273],\n",
       "       [ 1.        ,  2.82828283],\n",
       "       [ 1.        ,  2.92929293],\n",
       "       [ 1.        ,  3.03030303],\n",
       "       [ 1.        ,  3.13131313],\n",
       "       [ 1.        ,  3.23232323],\n",
       "       [ 1.        ,  3.33333333],\n",
       "       [ 1.        ,  3.43434343],\n",
       "       [ 1.        ,  3.53535354],\n",
       "       [ 1.        ,  3.63636364],\n",
       "       [ 1.        ,  3.73737374],\n",
       "       [ 1.        ,  3.83838384],\n",
       "       [ 1.        ,  3.93939394],\n",
       "       [ 1.        ,  4.04040404],\n",
       "       [ 1.        ,  4.14141414],\n",
       "       [ 1.        ,  4.24242424],\n",
       "       [ 1.        ,  4.34343434],\n",
       "       [ 1.        ,  4.44444444],\n",
       "       [ 1.        ,  4.54545455],\n",
       "       [ 1.        ,  4.64646465],\n",
       "       [ 1.        ,  4.74747475],\n",
       "       [ 1.        ,  4.84848485],\n",
       "       [ 1.        ,  4.94949495],\n",
       "       [ 1.        ,  5.05050505],\n",
       "       [ 1.        ,  5.15151515],\n",
       "       [ 1.        ,  5.25252525],\n",
       "       [ 1.        ,  5.35353535],\n",
       "       [ 1.        ,  5.45454545],\n",
       "       [ 1.        ,  5.55555556],\n",
       "       [ 1.        ,  5.65656566],\n",
       "       [ 1.        ,  5.75757576],\n",
       "       [ 1.        ,  5.85858586],\n",
       "       [ 1.        ,  5.95959596],\n",
       "       [ 1.        ,  6.06060606],\n",
       "       [ 1.        ,  6.16161616],\n",
       "       [ 1.        ,  6.26262626],\n",
       "       [ 1.        ,  6.36363636],\n",
       "       [ 1.        ,  6.46464646],\n",
       "       [ 1.        ,  6.56565657],\n",
       "       [ 1.        ,  6.66666667],\n",
       "       [ 1.        ,  6.76767677],\n",
       "       [ 1.        ,  6.86868687],\n",
       "       [ 1.        ,  6.96969697],\n",
       "       [ 1.        ,  7.07070707],\n",
       "       [ 1.        ,  7.17171717],\n",
       "       [ 1.        ,  7.27272727],\n",
       "       [ 1.        ,  7.37373737],\n",
       "       [ 1.        ,  7.47474747],\n",
       "       [ 1.        ,  7.57575758],\n",
       "       [ 1.        ,  7.67676768],\n",
       "       [ 1.        ,  7.77777778],\n",
       "       [ 1.        ,  7.87878788],\n",
       "       [ 1.        ,  7.97979798],\n",
       "       [ 1.        ,  8.08080808],\n",
       "       [ 1.        ,  8.18181818],\n",
       "       [ 1.        ,  8.28282828],\n",
       "       [ 1.        ,  8.38383838],\n",
       "       [ 1.        ,  8.48484848],\n",
       "       [ 1.        ,  8.58585859],\n",
       "       [ 1.        ,  8.68686869],\n",
       "       [ 1.        ,  8.78787879],\n",
       "       [ 1.        ,  8.88888889],\n",
       "       [ 1.        ,  8.98989899],\n",
       "       [ 1.        ,  9.09090909],\n",
       "       [ 1.        ,  9.19191919],\n",
       "       [ 1.        ,  9.29292929],\n",
       "       [ 1.        ,  9.39393939],\n",
       "       [ 1.        ,  9.49494949],\n",
       "       [ 1.        ,  9.5959596 ],\n",
       "       [ 1.        ,  9.6969697 ],\n",
       "       [ 1.        ,  9.7979798 ],\n",
       "       [ 1.        ,  9.8989899 ],\n",
       "       [ 1.        , 10.        ]])"
      ]
     },
     "execution_count": 2,
     "metadata": {},
     "output_type": "execute_result"
    }
   ],
   "source": [
    "X = sm.add_constant(x)\n",
    "X"
   ]
  },
  {
   "cell_type": "code",
   "execution_count": 3,
   "metadata": {},
   "outputs": [
    {
     "data": {
      "text/plain": [
       "array([ 8, 18])"
      ]
     },
     "execution_count": 3,
     "metadata": {},
     "output_type": "execute_result"
    }
   ],
   "source": [
    "beta = np.array([8, 18])\n",
    "beta"
   ]
  },
  {
   "cell_type": "code",
   "execution_count": 4,
   "metadata": {},
   "outputs": [
    {
     "data": {
      "text/plain": [
       "array([ 2.16813073, -0.87184324, -1.51544089,  0.30488714, -0.64107781,\n",
       "        0.35827168, -1.43343599,  0.48507063, -1.79202995,  0.28365294,\n",
       "        0.03353074, -1.11472344,  0.92490768, -0.14338227,  1.51895305,\n",
       "       -0.76230879, -0.08151028,  1.00084409, -0.19712446, -1.44442019,\n",
       "       -1.30288654,  0.12745626,  1.2328657 ,  1.91510454,  0.13931909,\n",
       "       -0.12241197, -1.80926467, -0.74293008,  0.22314904,  0.46463134,\n",
       "        0.76725228,  1.88367265,  0.8188344 ,  0.23617768,  1.30753861,\n",
       "        1.39664713,  1.90445889, -1.1975037 , -0.15950299,  0.64845137,\n",
       "        1.07221667, -0.91640766,  0.86232019,  0.09917178, -1.49586501,\n",
       "       -0.57405229, -1.02547921,  0.14015826, -1.37387683,  0.45396927,\n",
       "        1.03038349, -0.42732292,  0.99645183, -3.44074328, -1.11832394,\n",
       "        2.0415302 ,  0.62679266,  2.05667149, -0.35261708, -0.92118746,\n",
       "        0.91945928,  0.92266587, -0.78631117, -0.48013379, -1.95676495,\n",
       "       -0.96508147,  0.13092781,  0.54907104,  1.09857115, -0.57484073,\n",
       "       -1.03839746,  2.39653908,  0.04780377, -1.43351914, -0.20827205,\n",
       "       -0.29706919,  0.2192575 ,  0.96780322, -0.94827862,  0.20734499,\n",
       "       -0.2940647 ,  0.01456232, -1.16768406,  0.06912088,  1.73512961,\n",
       "       -0.56270182, -1.42893063, -2.34285214,  0.7685125 , -0.25722116,\n",
       "        1.48293927, -0.47559001,  0.0247726 ,  1.03609455,  0.21671097,\n",
       "        0.25955208,  0.05148093,  1.23538257,  0.10704377,  1.96665505])"
      ]
     },
     "execution_count": 4,
     "metadata": {},
     "output_type": "execute_result"
    }
   ],
   "source": [
    "e = np.random.normal(size=nsample)\n",
    "e"
   ]
  },
  {
   "cell_type": "code",
   "execution_count": 5,
   "metadata": {},
   "outputs": [
    {
     "data": {
      "text/plain": [
       "array([ 18.84065366,   5.45896563,   4.05915921,  14.97898115,\n",
       "        12.0673382 ,  18.88226751,  11.74191096,  23.15262589,\n",
       "        13.58530479,  25.78190104,  26.34947188,  22.42638282,\n",
       "        34.44272023,  30.91945229,  41.04931068,  31.46118333,\n",
       "        36.68335772,  43.91331134,  39.74165045,  35.3233536 ,\n",
       "        37.84920365,  46.81909948,  54.16432848,  59.39370451,\n",
       "        52.33295907,  52.84248562,  46.22640391,  53.37625867,\n",
       "        60.02483611,  63.05042942,  66.38171592,  73.7819996 ,\n",
       "        70.27599017,  69.18088838,  76.35587488,  78.6195993 ,\n",
       "        82.97683992,  69.28520877,  76.29339415,  82.15134778,\n",
       "        86.08835608,  77.96341625,  88.67523731,  86.67767707,\n",
       "        80.52067494,  86.94792037,  86.50896757,  94.15533675,\n",
       "        88.40334313,  99.36075543, 104.06100836,  98.59065813,\n",
       "       107.52771371,  87.15991998, 100.59019849, 118.20765098,\n",
       "       112.9521451 , 121.91972107, 111.69146007, 110.66678996,\n",
       "       121.68820551, 123.52242028, 116.79571688, 120.1447856 ,\n",
       "       114.57981159, 121.35641085, 128.65463906, 132.56353702,\n",
       "       137.1292194 , 130.58034181, 130.08073998, 149.07360451,\n",
       "       139.14810977, 133.55967702, 141.50409429, 142.87829044,\n",
       "       147.27810571, 152.83901609, 145.07678869, 152.67308856,\n",
       "       151.98422197, 155.34553888, 151.2524888 , 159.25469533,\n",
       "       169.4029208 , 159.73194544, 157.2189832 , 154.46755746,\n",
       "       171.84256251, 168.53207604, 179.05106001, 171.07659541,\n",
       "       175.39659029, 182.27138182, 179.99264577, 182.02503312,\n",
       "       182.8028592 , 190.54054921, 186.71703704, 197.83327527])"
      ]
     },
     "execution_count": 5,
     "metadata": {},
     "output_type": "execute_result"
    }
   ],
   "source": [
    "y = np.dot(X, beta) + 5*e\n",
    "y"
   ]
  },
  {
   "cell_type": "markdown",
   "metadata": {},
   "source": [
    "$Y = XA +E$<br>\n",
    "$A =(X^TX)^{-1}X^TY $<br>\n",
    "Sum of squared error :$SSE=E^TE$"
   ]
  },
  {
   "cell_type": "code",
   "execution_count": 6,
   "metadata": {},
   "outputs": [
    {
     "data": {
      "text/plain": [
       "array([ 7.8280121 , 18.07195246])"
      ]
     },
     "execution_count": 6,
     "metadata": {},
     "output_type": "execute_result"
    }
   ],
   "source": [
    "np.dot(np.dot(np.linalg.inv(np.dot(X.T,X)),X.T),y)"
   ]
  },
  {
   "cell_type": "code",
   "execution_count": 7,
   "metadata": {},
   "outputs": [
    {
     "data": {
      "text/plain": [
       "array([ 7.8280121 , 18.07195246])"
      ]
     },
     "execution_count": 7,
     "metadata": {},
     "output_type": "execute_result"
    }
   ],
   "source": [
    "np.linalg.inv(np.dot(X.T,X)).dot(X.T).dot(y)"
   ]
  },
  {
   "cell_type": "code",
   "execution_count": 8,
   "metadata": {},
   "outputs": [],
   "source": [
    "model = sm.OLS(y,X)"
   ]
  },
  {
   "cell_type": "code",
   "execution_count": 9,
   "metadata": {},
   "outputs": [],
   "source": [
    "results = model.fit()"
   ]
  },
  {
   "cell_type": "code",
   "execution_count": 10,
   "metadata": {},
   "outputs": [
    {
     "name": "stdout",
     "output_type": "stream",
     "text": [
      "[ 7.8280121  18.07195246]\n"
     ]
    }
   ],
   "source": [
    "print(results.params)"
   ]
  },
  {
   "cell_type": "code",
   "execution_count": 11,
   "metadata": {},
   "outputs": [
    {
     "name": "stdout",
     "output_type": "stream",
     "text": [
      "                            OLS Regression Results                            \n",
      "==============================================================================\n",
      "Dep. Variable:                      y   R-squared:                       0.989\n",
      "Model:                            OLS   Adj. R-squared:                  0.989\n",
      "Method:                 Least Squares   F-statistic:                     8884.\n",
      "Date:                Thu, 22 Aug 2019   Prob (F-statistic):           5.77e-98\n",
      "Time:                        13:35:00   Log-Likelihood:                -312.99\n",
      "No. Observations:                 100   AIC:                             630.0\n",
      "Df Residuals:                      98   BIC:                             635.2\n",
      "Df Model:                           1                                         \n",
      "Covariance Type:            nonrobust                                         \n",
      "==============================================================================\n",
      "                 coef    std err          t      P>|t|      [0.025      0.975]\n",
      "------------------------------------------------------------------------------\n",
      "const          7.8280      1.110      7.054      0.000       5.626      10.030\n",
      "x1            18.0720      0.192     94.258      0.000      17.691      18.452\n",
      "==============================================================================\n",
      "Omnibus:                        0.513   Durbin-Watson:                   1.845\n",
      "Prob(Omnibus):                  0.774   Jarque-Bera (JB):                0.408\n",
      "Skew:                          -0.156   Prob(JB):                        0.815\n",
      "Kurtosis:                       2.966   Cond. No.                         11.7\n",
      "==============================================================================\n",
      "\n",
      "Warnings:\n",
      "[1] Standard Errors assume that the covariance matrix of the errors is correctly specified.\n"
     ]
    }
   ],
   "source": [
    "print(results.summary())"
   ]
  },
  {
   "cell_type": "code",
   "execution_count": 12,
   "metadata": {},
   "outputs": [],
   "source": [
    "import matplotlib.pyplot as plt"
   ]
  },
  {
   "cell_type": "code",
   "execution_count": 13,
   "metadata": {},
   "outputs": [
    {
     "data": {
      "text/plain": [
       "array([  7.8280121 ,   9.65346185,  11.47891159,  13.30436134,\n",
       "        15.12981108,  16.95526082,  18.78071057,  20.60616031,\n",
       "        22.43161005,  24.2570598 ,  26.08250954,  27.90795928,\n",
       "        29.73340903,  31.55885877,  33.38430852,  35.20975826,\n",
       "        37.035208  ,  38.86065775,  40.68610749,  42.51155723,\n",
       "        44.33700698,  46.16245672,  47.98790646,  49.81335621,\n",
       "        51.63880595,  53.4642557 ,  55.28970544,  57.11515518,\n",
       "        58.94060493,  60.76605467,  62.59150441,  64.41695416,\n",
       "        66.2424039 ,  68.06785364,  69.89330339,  71.71875313,\n",
       "        73.54420288,  75.36965262,  77.19510236,  79.02055211,\n",
       "        80.84600185,  82.67145159,  84.49690134,  86.32235108,\n",
       "        88.14780083,  89.97325057,  91.79870031,  93.62415006,\n",
       "        95.4495998 ,  97.27504954,  99.10049929, 100.92594903,\n",
       "       102.75139877, 104.57684852, 106.40229826, 108.22774801,\n",
       "       110.05319775, 111.87864749, 113.70409724, 115.52954698,\n",
       "       117.35499672, 119.18044647, 121.00589621, 122.83134595,\n",
       "       124.6567957 , 126.48224544, 128.30769519, 130.13314493,\n",
       "       131.95859467, 133.78404442, 135.60949416, 137.4349439 ,\n",
       "       139.26039365, 141.08584339, 142.91129314, 144.73674288,\n",
       "       146.56219262, 148.38764237, 150.21309211, 152.03854185,\n",
       "       153.8639916 , 155.68944134, 157.51489108, 159.34034083,\n",
       "       161.16579057, 162.99124032, 164.81669006, 166.6421398 ,\n",
       "       168.46758955, 170.29303929, 172.11848903, 173.94393878,\n",
       "       175.76938852, 177.59483826, 179.42028801, 181.24573775,\n",
       "       183.0711875 , 184.89663724, 186.72208698, 188.54753673])"
      ]
     },
     "execution_count": 13,
     "metadata": {},
     "output_type": "execute_result"
    }
   ],
   "source": [
    "fitted_ys=results.fittedvalues\n",
    "fitted_ys"
   ]
  },
  {
   "cell_type": "code",
   "execution_count": 14,
   "metadata": {},
   "outputs": [
    {
     "data": {
      "text/plain": [
       "<matplotlib.legend.Legend at 0x2ba271327b8>"
      ]
     },
     "execution_count": 14,
     "metadata": {},
     "output_type": "execute_result"
    },
    {
     "data": {
      "image/png": "[encoded data removed]",
      "text/plain": [
       "<Figure size 576x360 with 1 Axes>"
      ]
     },
     "metadata": {},
     "output_type": "display_data"
    }
   ],
   "source": [
    "fig ,ax = plt.subplots(figsize=(8,5))\n",
    "ax.plot(x, y, color='green', marker='o',label=\"data\")\n",
    "ax.plot(x,fitted_ys,color=\"red\",label=\"OLS\")\n",
    "ax.legend()"
   ]
  },
  {
   "cell_type": "code",
   "execution_count": null,
   "metadata": {},
   "outputs": [],
   "source": []
  }
 ],
 "metadata": {
  "kernelspec": {
   "display_name": "Python 3",
   "language": "python",
   "name": "python3"
  },
  "language_info": {
   "codemirror_mode": {
    "name": "ipython",
    "version": 3
   },
   "file_extension": ".py",
   "mimetype": "text/x-python",
   "name": "python",
   "nbconvert_exporter": "python",
   "pygments_lexer": "ipython3",
   "version": "3.7.3"
  }
 },
 "nbformat": 4,
 "nbformat_minor": 2
}